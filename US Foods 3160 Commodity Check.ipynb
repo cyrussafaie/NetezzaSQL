{
 "cells": [
  {
   "cell_type": "markdown",
   "metadata": {},
   "source": [
    "# US Foods 3160 Commodity Check"
   ]
  },
  {
   "cell_type": "markdown",
   "metadata": {},
   "source": [
    "### Importing USF Survey Results_VF_20151209_1342.csv"
   ]
  },
  {
   "cell_type": "code",
   "execution_count": 62,
   "metadata": {
    "collapsed": false
   },
   "outputs": [
    {
     "name": "stdout",
     "output_type": "stream",
     "text": [
      "'data.frame':\t5865 obs. of  10 variables:\n",
      " $ ID                 : int  1 1 1 1 1 1 1 1 1 1 ...\n",
      " $ Role               : Factor w/ 26 levels \"DMM\",\"DSM-22\",..: 23 23 23 23 23 23 23 23 23 23 ...\n",
      " $ div_nbr            : int  3023 3023 3023 3023 3023 3023 3023 3023 3023 3023 ...\n",
      " $ Segment            : Factor w/ 3 levels \"BARGRILL\",\"MEXICAN\",..: 1 1 1 1 1 1 1 1 1 1 ...\n",
      " $ Product            : Factor w/ 721 levels \"APPETIZER, BEAN GREEN BATTERED ONION COATED WHOLE IQF FROZEN || PRIVATE || MOLLY'S KITCHEN\",..: 514 635 4 76 94 100 107 115 122 126 ...\n",
      " $ div_nm             : Factor w/ 8 levels \"ATLANTA\",\"AUSTIN\",..: 2 2 2 2 2 2 2 2 2 2 ...\n",
      " $ pim_usf_std_prod_cd: int  0 0 1534452 1253177 1782721 3251359 1699616 9082656 518493 1249 ...\n",
      " $ pim_prod_desc_lng  : Factor w/ 686 levels \"APPETIZER, BEAN GREEN BATTERED ONION COATED WHOLE IQF FROZEN\",..: 398 398 4 76 93 99 106 114 120 124 ...\n",
      " $ pim_brnd_typ_desc  : Factor w/ 4 levels \"\",\"NATIONAL\",..: 1 1 4 2 2 2 2 2 4 4 ...\n",
      " $ Response           : Factor w/ 5 levels \"Agree\",\"Disagree\",..: 3 3 3 3 3 1 1 2 4 2 ...\n"
     ]
    },
    {
     "data": {
      "text/html": [
       "<table>\n",
       "<thead><tr><th></th><th scope=col>ID</th><th scope=col>Role</th><th scope=col>div_nbr</th><th scope=col>Segment</th><th scope=col>Product</th><th scope=col>div_nm</th><th scope=col>pim_usf_std_prod_cd</th><th scope=col>pim_prod_desc_lng</th><th scope=col>pim_brnd_typ_desc</th><th scope=col>Response</th></tr></thead>\n",
       "<tbody>\n",
       "\t<tr><th scope=row>1</th><td>1</td><td>President</td><td>3023</td><td>BARGRILL</td><td>RANGE, RESTAURANT 36\" 6 BURNER 1 STANDARD OVEN SPECIFY GAS || PRIVATE || SUPERIOR PRODUCTS</td><td>AUSTIN</td><td>0</td><td>NonCommodity- Dummy</td><td></td><td>Neutral</td></tr>\n",
       "\t<tr><th scope=row>2</th><td>1</td><td>President</td><td>3023</td><td>BARGRILL</td><td>TABLE BASE, 15X15 CAST IRON SPIDER || NATIONAL || FALCON</td><td>AUSTIN</td><td>0</td><td>NonCommodity- Dummy</td><td></td><td>Neutral</td></tr>\n",
       "\t<tr><th scope=row>3</th><td>1</td><td>President</td><td>3023</td><td>BARGRILL</td><td>APPETIZER, CHEESE MOZZARELLA BREADED ITALIAN STICK 3.25\" RAW FROZEN BAG || PRIVATE || MOLLY'S KITCHEN</td><td>AUSTIN</td><td>1534452</td><td>APPETIZER, CHEESE MOZZARELLA BREADED ITALIAN STICK 3.25\" RAW FROZEN BAG</td><td>PRIVATE</td><td>Neutral</td></tr>\n",
       "\t<tr><th scope=row>4</th><td>1</td><td>President</td><td>3023</td><td>BARGRILL</td><td>BEEF, PHILLY FLAT RIBEYE SEASONED RAW FROZEN BULK 4 OZ SLICED || NATIONAL || PHILADELPHIA CHEESESTEAK</td><td>AUSTIN</td><td>1253177</td><td>BEEF, PHILLY FLAT RIBEYE SEASONED RAW FROZEN BULK 4 OZ SLICED</td><td>NATIONAL</td><td>Neutral</td></tr>\n",
       "\t<tr><th scope=row>5</th><td>1</td><td>President</td><td>3023</td><td>BARGRILL</td><td>BLEACH, CLEANER LIQUID PLASTIC JUG CLEAR GERMICIDAL || NATIONAL || PURE BRIGHT</td><td>AUSTIN</td><td>1782721</td><td>BLEACH, CLEANER LIQUID PLASTIC JUG CLEAR GERMICIDAL</td><td>NATIONAL</td><td>Neutral</td></tr>\n",
       "\t<tr><th scope=row>6</th><td>1</td><td>President</td><td>3023</td><td>BARGRILL</td><td>BREAD, RYE MARBLE 11\" 21 SLICED 1/2\" LOAF BAKED FROZEN REUBEN || NATIONAL || ROTELLA'S ITALIAN BAKERY</td><td>AUSTIN</td><td>3251359</td><td>BREAD, RYE MARBLE 11\" 21 SLICED 1/2\" LOAF BAKED FROZEN REUBEN</td><td>NATIONAL</td><td>Agree</td></tr>\n",
       "</tbody>\n",
       "</table>\n"
      ],
      "text/latex": [
       "\\begin{tabular}{r|llllllllll}\n",
       "  & ID & Role & div_nbr & Segment & Product & div_nm & pim_usf_std_prod_cd & pim_prod_desc_lng & pim_brnd_typ_desc & Response\\\\\n",
       "\\hline\n",
       "\t1 & 1 & President & 3023 & BARGRILL & RANGE, RESTAURANT 36\" 6 BURNER 1 STANDARD OVEN SPECIFY GAS || PRIVATE || SUPERIOR PRODUCTS & AUSTIN & 0 & NonCommodity- Dummy &  & Neutral\\\\\n",
       "\t2 & 1 & President & 3023 & BARGRILL & TABLE BASE, 15X15 CAST IRON SPIDER || NATIONAL || FALCON & AUSTIN & 0 & NonCommodity- Dummy &  & Neutral\\\\\n",
       "\t3 & 1 & President & 3023 & BARGRILL & APPETIZER, CHEESE MOZZARELLA BREADED ITALIAN STICK 3.25\" RAW FROZEN BAG || PRIVATE || MOLLY'S KITCHEN & AUSTIN & 1534452 & APPETIZER, CHEESE MOZZARELLA BREADED ITALIAN STICK 3.25\" RAW FROZEN BAG & PRIVATE & Neutral\\\\\n",
       "\t4 & 1 & President & 3023 & BARGRILL & BEEF, PHILLY FLAT RIBEYE SEASONED RAW FROZEN BULK 4 OZ SLICED || NATIONAL || PHILADELPHIA CHEESESTEAK & AUSTIN & 1253177 & BEEF, PHILLY FLAT RIBEYE SEASONED RAW FROZEN BULK 4 OZ SLICED & NATIONAL & Neutral\\\\\n",
       "\t5 & 1 & President & 3023 & BARGRILL & BLEACH, CLEANER LIQUID PLASTIC JUG CLEAR GERMICIDAL || NATIONAL || PURE BRIGHT & AUSTIN & 1782721 & BLEACH, CLEANER LIQUID PLASTIC JUG CLEAR GERMICIDAL & NATIONAL & Neutral\\\\\n",
       "\t6 & 1 & President & 3023 & BARGRILL & BREAD, RYE MARBLE 11\" 21 SLICED 1/2\" LOAF BAKED FROZEN REUBEN || NATIONAL || ROTELLA'S ITALIAN BAKERY & AUSTIN & 3251359 & BREAD, RYE MARBLE 11\" 21 SLICED 1/2\" LOAF BAKED FROZEN REUBEN & NATIONAL & Agree\\\\\n",
       "\\end{tabular}\n"
      ],
      "text/plain": [
       "  ID      Role div_nbr  Segment\n",
       "1  1 President    3023 BARGRILL\n",
       "2  1 President    3023 BARGRILL\n",
       "3  1 President    3023 BARGRILL\n",
       "4  1 President    3023 BARGRILL\n",
       "5  1 President    3023 BARGRILL\n",
       "6  1 President    3023 BARGRILL\n",
       "                                                                                                Product\n",
       "1            RANGE, RESTAURANT 36\" 6 BURNER 1 STANDARD OVEN SPECIFY GAS || PRIVATE || SUPERIOR PRODUCTS\n",
       "2                                              TABLE BASE, 15X15 CAST IRON SPIDER || NATIONAL || FALCON\n",
       "3 APPETIZER, CHEESE MOZZARELLA BREADED ITALIAN STICK 3.25\" RAW FROZEN BAG || PRIVATE || MOLLY'S KITCHEN\n",
       "4 BEEF, PHILLY FLAT RIBEYE SEASONED RAW FROZEN BULK 4 OZ SLICED || NATIONAL || PHILADELPHIA CHEESESTEAK\n",
       "5                        BLEACH, CLEANER LIQUID PLASTIC JUG CLEAR GERMICIDAL || NATIONAL || PURE BRIGHT\n",
       "6 BREAD, RYE MARBLE 11\" 21 SLICED 1/2\" LOAF BAKED FROZEN REUBEN || NATIONAL || ROTELLA'S ITALIAN BAKERY\n",
       "  div_nm pim_usf_std_prod_cd\n",
       "1 AUSTIN                   0\n",
       "2 AUSTIN                   0\n",
       "3 AUSTIN             1534452\n",
       "4 AUSTIN             1253177\n",
       "5 AUSTIN             1782721\n",
       "6 AUSTIN             3251359\n",
       "                                                        pim_prod_desc_lng\n",
       "1                                                     NonCommodity- Dummy\n",
       "2                                                     NonCommodity- Dummy\n",
       "3 APPETIZER, CHEESE MOZZARELLA BREADED ITALIAN STICK 3.25\" RAW FROZEN BAG\n",
       "4           BEEF, PHILLY FLAT RIBEYE SEASONED RAW FROZEN BULK 4 OZ SLICED\n",
       "5                     BLEACH, CLEANER LIQUID PLASTIC JUG CLEAR GERMICIDAL\n",
       "6           BREAD, RYE MARBLE 11\" 21 SLICED 1/2\" LOAF BAKED FROZEN REUBEN\n",
       "  pim_brnd_typ_desc Response\n",
       "1                    Neutral\n",
       "2                    Neutral\n",
       "3           PRIVATE  Neutral\n",
       "4          NATIONAL  Neutral\n",
       "5          NATIONAL  Neutral\n",
       "6          NATIONAL    Agree"
      ]
     },
     "execution_count": 62,
     "metadata": {},
     "output_type": "execute_result"
    }
   ],
   "source": [
    "survey_results = read.csv('C:/Users/Jeff Charbeneau/Desktop/USF Survey Results_VF_20151209_1342.csv', header = TRUE, sep = ',')\n",
    "\n",
    "str(survey_results)\n",
    "\n",
    "head(survey_results)"
   ]
  },
  {
   "cell_type": "markdown",
   "metadata": {},
   "source": [
    "### Altering survey_results data frame"
   ]
  },
  {
   "cell_type": "code",
   "execution_count": 63,
   "metadata": {
    "collapsed": false
   },
   "outputs": [
    {
     "data": {
      "text/html": [
       "<ol class=list-inline>\n",
       "\t<li>798</li>\n",
       "\t<li>10</li>\n",
       "</ol>\n"
      ],
      "text/latex": [
       "\\begin{enumerate*}\n",
       "\\item 798\n",
       "\\item 10\n",
       "\\end{enumerate*}\n"
      ],
      "text/markdown": [
       "1. 798\n",
       "2. 10\n",
       "\n",
       "\n"
      ],
      "text/plain": [
       "[1] 798  10"
      ]
     },
     "execution_count": 63,
     "metadata": {},
     "output_type": "execute_result"
    },
    {
     "data": {
      "text/html": [
       "<ol class=list-inline>\n",
       "\t<li>133</li>\n",
       "\t<li>10</li>\n",
       "</ol>\n"
      ],
      "text/latex": [
       "\\begin{enumerate*}\n",
       "\\item 133\n",
       "\\item 10\n",
       "\\end{enumerate*}\n"
      ],
      "text/markdown": [
       "1. 133\n",
       "2. 10\n",
       "\n",
       "\n"
      ],
      "text/plain": [
       "[1] 133  10"
      ]
     },
     "execution_count": 63,
     "metadata": {},
     "output_type": "execute_result"
    },
    {
     "data": {
      "text/html": [
       "<ol class=list-inline>\n",
       "\t<li>129</li>\n",
       "\t<li>6</li>\n",
       "</ol>\n"
      ],
      "text/latex": [
       "\\begin{enumerate*}\n",
       "\\item 129\n",
       "\\item 6\n",
       "\\end{enumerate*}\n"
      ],
      "text/markdown": [
       "1. 129\n",
       "2. 6\n",
       "\n",
       "\n"
      ],
      "text/plain": [
       "[1] 129   6"
      ]
     },
     "execution_count": 63,
     "metadata": {},
     "output_type": "execute_result"
    },
    {
     "data": {
      "text/html": [
       "<table>\n",
       "<thead><tr><th></th><th scope=col>div_nbr</th><th scope=col>Segment</th><th scope=col>Product</th><th scope=col>pim_usf_std_prod_cd</th><th scope=col>pim_prod_desc_lng</th><th scope=col>pim_brnd_typ_desc</th></tr></thead>\n",
       "<tbody>\n",
       "\t<tr><th scope=row>3336</th><td>3160</td><td>BAR</td><td>APPETIZER, CHEESE MOZZARELLA BATTERED STICK 1.3 OZ TFF PARFRIED FROZEN || PRIVATE || MOLLY'S KITCHEN</td><td>1331013</td><td>APPETIZER, CHEESE MOZZARELLA BATTERED STICK 1.3 OZ TFF PARFRIED FROZEN</td><td>PRIVATE</td></tr>\n",
       "\t<tr><th scope=row>3337</th><td>3160</td><td>BAR</td><td>APPETIZER, JALAPENO CREAM CHEESE STUFFED BREADED TFF FROZEN || PRIVATE || MOLLY'S KITCHEN</td><td>1738207</td><td>APPETIZER, JALAPENO CREAM CHEESE STUFFED BREADED TFF FROZEN</td><td>PRIVATE</td></tr>\n",
       "\t<tr><th scope=row>3338</th><td>3160</td><td>BAR</td><td>AVOCADO, RIPE 32-60 COUNT FRESH REF || PACKER || PACKER</td><td>95363</td><td>AVOCADO, RIPE 32-60 COUNT FRESH REF</td><td>PACKER</td></tr>\n",
       "\t<tr><th scope=row>3339</th><td>3160</td><td>BAR</td><td>AVOCADO, RIPE 40-48 COUNT FRESH REF || PACKER || PACKER</td><td>1464904</td><td>AVOCADO, RIPE 40-48 COUNT FRESH REF</td><td>PACKER</td></tr>\n",
       "\t<tr><th scope=row>3340</th><td>3160</td><td>BAR</td><td>BAG, T-SHIRT 11.5X6.5X21 PLASTIC RED & WHITE STOCK PRINT THANK YOU CARRY-OU || NATIONAL || ROYAL PAPER</td><td>536879</td><td>BAG, T-SHIRT 11.5X6.5X21 PLASTIC RED & WHITE STOCK PRINT THANK YOU CARRY-OU</td><td>NATIONAL</td></tr>\n",
       "\t<tr><th scope=row>3341</th><td>3160</td><td>BAR</td><td>BAND, NAPKIN PAPER 1.5X4.25 WHITE || NATIONAL || JRMI</td><td>1722668</td><td>BAND, NAPKIN PAPER 1.5X4.25 WHITE</td><td>NATIONAL</td></tr>\n",
       "</tbody>\n",
       "</table>\n"
      ],
      "text/latex": [
       "\\begin{tabular}{r|llllll}\n",
       "  & div_nbr & Segment & Product & pim_usf_std_prod_cd & pim_prod_desc_lng & pim_brnd_typ_desc\\\\\n",
       "\\hline\n",
       "\t3336 & 3160 & BAR & APPETIZER, CHEESE MOZZARELLA BATTERED STICK 1.3 OZ TFF PARFRIED FROZEN || PRIVATE || MOLLY'S KITCHEN & 1331013 & APPETIZER, CHEESE MOZZARELLA BATTERED STICK 1.3 OZ TFF PARFRIED FROZEN & PRIVATE\\\\\n",
       "\t3337 & 3160 & BAR & APPETIZER, JALAPENO CREAM CHEESE STUFFED BREADED TFF FROZEN || PRIVATE || MOLLY'S KITCHEN & 1738207 & APPETIZER, JALAPENO CREAM CHEESE STUFFED BREADED TFF FROZEN & PRIVATE\\\\\n",
       "\t3338 & 3160 & BAR & AVOCADO, RIPE 32-60 COUNT FRESH REF || PACKER || PACKER & 95363 & AVOCADO, RIPE 32-60 COUNT FRESH REF & PACKER\\\\\n",
       "\t3339 & 3160 & BAR & AVOCADO, RIPE 40-48 COUNT FRESH REF || PACKER || PACKER & 1464904 & AVOCADO, RIPE 40-48 COUNT FRESH REF & PACKER\\\\\n",
       "\t3340 & 3160 & BAR & BAG, T-SHIRT 11.5X6.5X21 PLASTIC RED & WHITE STOCK PRINT THANK YOU CARRY-OU || NATIONAL || ROYAL PAPER & 536879 & BAG, T-SHIRT 11.5X6.5X21 PLASTIC RED & WHITE STOCK PRINT THANK YOU CARRY-OU & NATIONAL\\\\\n",
       "\t3341 & 3160 & BAR & BAND, NAPKIN PAPER 1.5X4.25 WHITE || NATIONAL || JRMI & 1722668 & BAND, NAPKIN PAPER 1.5X4.25 WHITE & NATIONAL\\\\\n",
       "\\end{tabular}\n"
      ],
      "text/plain": [
       "     div_nbr Segment\n",
       "3336    3160     BAR\n",
       "3337    3160     BAR\n",
       "3338    3160     BAR\n",
       "3339    3160     BAR\n",
       "3340    3160     BAR\n",
       "3341    3160     BAR\n",
       "                                                                                                    Product\n",
       "3336   APPETIZER, CHEESE MOZZARELLA BATTERED STICK 1.3 OZ TFF PARFRIED FROZEN || PRIVATE || MOLLY'S KITCHEN\n",
       "3337              APPETIZER, JALAPENO CREAM CHEESE STUFFED BREADED TFF FROZEN || PRIVATE || MOLLY'S KITCHEN\n",
       "3338                                                AVOCADO, RIPE 32-60 COUNT FRESH REF || PACKER || PACKER\n",
       "3339                                                AVOCADO, RIPE 40-48 COUNT FRESH REF || PACKER || PACKER\n",
       "3340 BAG, T-SHIRT 11.5X6.5X21 PLASTIC RED & WHITE STOCK PRINT THANK YOU CARRY-OU || NATIONAL || ROYAL PAPER\n",
       "3341                                                  BAND, NAPKIN PAPER 1.5X4.25 WHITE || NATIONAL || JRMI\n",
       "     pim_usf_std_prod_cd\n",
       "3336             1331013\n",
       "3337             1738207\n",
       "3338               95363\n",
       "3339             1464904\n",
       "3340              536879\n",
       "3341             1722668\n",
       "                                                               pim_prod_desc_lng\n",
       "3336      APPETIZER, CHEESE MOZZARELLA BATTERED STICK 1.3 OZ TFF PARFRIED FROZEN\n",
       "3337                 APPETIZER, JALAPENO CREAM CHEESE STUFFED BREADED TFF FROZEN\n",
       "3338                                         AVOCADO, RIPE 32-60 COUNT FRESH REF\n",
       "3339                                         AVOCADO, RIPE 40-48 COUNT FRESH REF\n",
       "3340 BAG, T-SHIRT 11.5X6.5X21 PLASTIC RED & WHITE STOCK PRINT THANK YOU CARRY-OU\n",
       "3341                                           BAND, NAPKIN PAPER 1.5X4.25 WHITE\n",
       "     pim_brnd_typ_desc\n",
       "3336           PRIVATE\n",
       "3337           PRIVATE\n",
       "3338            PACKER\n",
       "3339            PACKER\n",
       "3340          NATIONAL\n",
       "3341          NATIONAL"
      ]
     },
     "execution_count": 63,
     "metadata": {},
     "output_type": "execute_result"
    }
   ],
   "source": [
    "survey_results$Segment = substr(survey_results$Segment, 1, 3)\n",
    "\n",
    "survey_results = survey_results[survey_results$div_nm == 'DENVER', ]\n",
    "\n",
    "dim(survey_results)\n",
    "\n",
    "survey_results = survey_results[survey_results$ID == 74, ]\n",
    "\n",
    "dim(survey_results)\n",
    "\n",
    "survey_results = survey_results[survey_results$pim_usf_std_prod_cd != 0, ]\n",
    "\n",
    "survey_results = survey_results[ , c(3:5,7:9)]\n",
    "\n",
    "dim(survey_results) \n",
    "\n",
    "head(survey_results)"
   ]
  },
  {
   "cell_type": "markdown",
   "metadata": {},
   "source": [
    "### Importing USFoods Scoring Survey Results.csv - Kappa Sheet"
   ]
  },
  {
   "cell_type": "code",
   "execution_count": 64,
   "metadata": {
    "collapsed": false
   },
   "outputs": [
    {
     "name": "stdout",
     "output_type": "stream",
     "text": [
      "'data.frame':\t1157 obs. of  49 variables:\n",
      " $ X    : Factor w/ 1157 levels \"1103-BAR-102122\",..: 1 2 3 4 5 6 7 8 9 10 ...\n",
      " $ idcnt: int  4 4 4 4 4 4 4 4 4 4 ...\n",
      " $ ids  : Factor w/ 18 levels \"1,11\",\"124,129,131,133,134,137\",..: 12 12 12 12 12 12 12 12 12 12 ...\n",
      " $ id1  : int  NA NA NA NA NA NA NA NA NA NA ...\n",
      " $ id2  : int  NA NA NA NA NA NA NA NA NA NA ...\n",
      " $ id4  : int  NA NA NA NA NA NA NA NA NA NA ...\n",
      " $ id6  : int  NA NA NA NA NA NA NA NA NA NA ...\n",
      " $ id8  : int  NA NA NA NA NA NA NA NA NA NA ...\n",
      " $ id10 : int  NA NA NA NA NA NA NA NA NA NA ...\n",
      " $ id11 : int  NA NA NA NA NA NA NA NA NA NA ...\n",
      " $ id13 : int  NA NA NA NA NA NA NA NA NA NA ...\n",
      " $ id17 : int  NA NA NA NA NA NA NA NA NA NA ...\n",
      " $ id18 : int  NA NA NA NA NA NA NA NA NA NA ...\n",
      " $ id23 : int  NA NA NA NA NA NA NA NA NA NA ...\n",
      " $ id26 : int  NA NA NA NA NA NA NA NA NA NA ...\n",
      " $ id28 : int  2 0 -1 -2 0 0 -1 -1 -1 -1 ...\n",
      " $ id30 : int  2 1 -1 -2 -1 -1 -1 -1 0 1 ...\n",
      " $ id34 : int  1 1 -1 -1 1 1 -1 1 1 1 ...\n",
      " $ id36 : int  2 1 0 0 1 0 1 0 1 2 ...\n",
      " $ id37 : logi  NA NA NA NA NA NA ...\n",
      " $ id41 : int  NA NA NA NA NA NA NA NA NA NA ...\n",
      " $ id47 : int  NA NA NA NA NA NA NA NA NA NA ...\n",
      " $ id51 : int  NA NA NA NA NA NA NA NA NA NA ...\n",
      " $ id53 : int  NA NA NA NA NA NA NA NA NA NA ...\n",
      " $ id54 : int  NA NA NA NA NA NA NA NA NA NA ...\n",
      " $ id62 : int  NA NA NA NA NA NA NA NA NA NA ...\n",
      " $ id65 : int  NA NA NA NA NA NA NA NA NA NA ...\n",
      " $ id67 : int  NA NA NA NA NA NA NA NA NA NA ...\n",
      " $ id71 : int  NA NA NA NA NA NA NA NA NA NA ...\n",
      " $ id74 : int  NA NA NA NA NA NA NA NA NA NA ...\n",
      " $ id76 : int  NA NA NA NA NA NA NA NA NA NA ...\n",
      " $ id81 : int  NA NA NA NA NA NA NA NA NA NA ...\n",
      " $ id83 : int  NA NA NA NA NA NA NA NA NA NA ...\n",
      " $ id90 : int  NA NA NA NA NA NA NA NA NA NA ...\n",
      " $ id91 : int  NA NA NA NA NA NA NA NA NA NA ...\n",
      " $ id92 : int  NA NA NA NA NA NA NA NA NA NA ...\n",
      " $ id98 : int  NA NA NA NA NA NA NA NA NA NA ...\n",
      " $ id102: int  NA NA NA NA NA NA NA NA NA NA ...\n",
      " $ id104: int  NA NA NA NA NA NA NA NA NA NA ...\n",
      " $ id110: int  NA NA NA NA NA NA NA NA NA NA ...\n",
      " $ id115: int  NA NA NA NA NA NA NA NA NA NA ...\n",
      " $ id124: int  NA NA NA NA NA NA NA NA NA NA ...\n",
      " $ id129: int  NA NA NA NA NA NA NA NA NA NA ...\n",
      " $ id131: int  NA NA NA NA NA NA NA NA NA NA ...\n",
      " $ id133: int  NA NA NA NA NA NA NA NA NA NA ...\n",
      " $ id134: int  NA NA NA NA NA NA NA NA NA NA ...\n",
      " $ id137: int  NA NA NA NA NA NA NA NA NA NA ...\n",
      " $ id148: int  NA NA NA NA NA NA NA NA NA NA ...\n",
      " $ id152: int  NA NA NA NA NA NA NA NA NA NA ...\n"
     ]
    },
    {
     "data": {
      "text/html": [
       "<table>\n",
       "<thead><tr><th></th><th scope=col>X</th><th scope=col>idcnt</th><th scope=col>ids</th><th scope=col>id1</th><th scope=col>id2</th><th scope=col>id4</th><th scope=col>id6</th><th scope=col>id8</th><th scope=col>id10</th><th scope=col>id11</th></tr></thead>\n",
       "<tbody>\n",
       "\t<tr><th scope=row>1</th><td>1103-BAR-102122</td><td>4</td><td>28,30,34,36</td><td>NA</td><td>NA</td><td>NA</td><td>NA</td><td>NA</td><td>NA</td><td>NA</td></tr>\n",
       "\t<tr><th scope=row>2</th><td>1103-BAR-105147</td><td>4</td><td>28,30,34,36</td><td>NA</td><td>NA</td><td>NA</td><td>NA</td><td>NA</td><td>NA</td><td>NA</td></tr>\n",
       "\t<tr><th scope=row>3</th><td>1103-BAR-105387</td><td>4</td><td>28,30,34,36</td><td>NA</td><td>NA</td><td>NA</td><td>NA</td><td>NA</td><td>NA</td><td>NA</td></tr>\n",
       "\t<tr><th scope=row>4</th><td>1103-BAR-1124981</td><td>4</td><td>28,30,34,36</td><td>NA</td><td>NA</td><td>NA</td><td>NA</td><td>NA</td><td>NA</td><td>NA</td></tr>\n",
       "\t<tr><th scope=row>5</th><td>1103-BAR-1178265</td><td>4</td><td>28,30,34,36</td><td>NA</td><td>NA</td><td>NA</td><td>NA</td><td>NA</td><td>NA</td><td>NA</td></tr>\n",
       "\t<tr><th scope=row>6</th><td>1103-BAR-1188411</td><td>4</td><td>28,30,34,36</td><td>NA</td><td>NA</td><td>NA</td><td>NA</td><td>NA</td><td>NA</td><td>NA</td></tr>\n",
       "</tbody>\n",
       "</table>\n"
      ],
      "text/latex": [
       "\\begin{tabular}{r|llllllllll}\n",
       "  & X & idcnt & ids & id1 & id2 & id4 & id6 & id8 & id10 & id11\\\\\n",
       "\\hline\n",
       "\t1 & 1103-BAR-102122 & 4 & 28,30,34,36 & NA & NA & NA & NA & NA & NA & NA\\\\\n",
       "\t2 & 1103-BAR-105147 & 4 & 28,30,34,36 & NA & NA & NA & NA & NA & NA & NA\\\\\n",
       "\t3 & 1103-BAR-105387 & 4 & 28,30,34,36 & NA & NA & NA & NA & NA & NA & NA\\\\\n",
       "\t4 & 1103-BAR-1124981 & 4 & 28,30,34,36 & NA & NA & NA & NA & NA & NA & NA\\\\\n",
       "\t5 & 1103-BAR-1178265 & 4 & 28,30,34,36 & NA & NA & NA & NA & NA & NA & NA\\\\\n",
       "\t6 & 1103-BAR-1188411 & 4 & 28,30,34,36 & NA & NA & NA & NA & NA & NA & NA\\\\\n",
       "\\end{tabular}\n"
      ],
      "text/plain": [
       "                 X idcnt         ids id1 id2 id4 id6 id8 id10 id11\n",
       "1  1103-BAR-102122     4 28,30,34,36  NA  NA  NA  NA  NA   NA   NA\n",
       "2  1103-BAR-105147     4 28,30,34,36  NA  NA  NA  NA  NA   NA   NA\n",
       "3  1103-BAR-105387     4 28,30,34,36  NA  NA  NA  NA  NA   NA   NA\n",
       "4 1103-BAR-1124981     4 28,30,34,36  NA  NA  NA  NA  NA   NA   NA\n",
       "5 1103-BAR-1178265     4 28,30,34,36  NA  NA  NA  NA  NA   NA   NA\n",
       "6 1103-BAR-1188411     4 28,30,34,36  NA  NA  NA  NA  NA   NA   NA"
      ]
     },
     "execution_count": 64,
     "metadata": {},
     "output_type": "execute_result"
    }
   ],
   "source": [
    "kappa = read.csv(\"C:/Users/Jeff Charbeneau/Desktop/USFoods Scoring Survey Results - Kappa.csv\", header = TRUE, sep = \",\")\n",
    "\n",
    "str(kappa)\n",
    "\n",
    "head(kappa[ , 1:10])"
   ]
  },
  {
   "cell_type": "markdown",
   "metadata": {},
   "source": [
    "### Altering kappa data frame"
   ]
  },
  {
   "cell_type": "code",
   "execution_count": 65,
   "metadata": {
    "collapsed": false
   },
   "outputs": [
    {
     "data": {
      "text/html": [
       "<ol class=list-inline>\n",
       "\t<li>129</li>\n",
       "\t<li>5</li>\n",
       "</ol>\n"
      ],
      "text/latex": [
       "\\begin{enumerate*}\n",
       "\\item 129\n",
       "\\item 5\n",
       "\\end{enumerate*}\n"
      ],
      "text/markdown": [
       "1. 129\n",
       "2. 5\n",
       "\n",
       "\n"
      ],
      "text/plain": [
       "[1] 129   5"
      ]
     },
     "execution_count": 65,
     "metadata": {},
     "output_type": "execute_result"
    },
    {
     "data": {
      "text/html": [
       "<table>\n",
       "<thead><tr><th></th><th scope=col>div_nbr</th><th scope=col>Segment</th><th scope=col>pim_usf_std_prod_cd</th><th scope=col>id74</th><th scope=col>id76</th></tr></thead>\n",
       "<tbody>\n",
       "\t<tr><th scope=row>804</th><td>3160</td><td>BAR</td><td>100559</td><td>2</td><td>2</td></tr>\n",
       "\t<tr><th scope=row>805</th><td>3160</td><td>BAR</td><td>100586</td><td>2</td><td>2</td></tr>\n",
       "\t<tr><th scope=row>809</th><td>3160</td><td>BAR</td><td>104379</td><td>2</td><td>2</td></tr>\n",
       "\t<tr><th scope=row>811</th><td>3160</td><td>BAR</td><td>105147</td><td>2</td><td>2</td></tr>\n",
       "\t<tr><th scope=row>813</th><td>3160</td><td>BAR</td><td>112068</td><td>-2</td><td>-2</td></tr>\n",
       "\t<tr><th scope=row>816</th><td>3160</td><td>BAR</td><td>1125607</td><td>2</td><td>2</td></tr>\n",
       "</tbody>\n",
       "</table>\n"
      ],
      "text/latex": [
       "\\begin{tabular}{r|lllll}\n",
       "  & div_nbr & Segment & pim_usf_std_prod_cd & id74 & id76\\\\\n",
       "\\hline\n",
       "\t804 & 3160 & BAR & 100559 & 2 & 2\\\\\n",
       "\t805 & 3160 & BAR & 100586 & 2 & 2\\\\\n",
       "\t809 & 3160 & BAR & 104379 & 2 & 2\\\\\n",
       "\t811 & 3160 & BAR & 105147 & 2 & 2\\\\\n",
       "\t813 & 3160 & BAR & 112068 & -2 & -2\\\\\n",
       "\t816 & 3160 & BAR & 1125607 & 2 & 2\\\\\n",
       "\\end{tabular}\n"
      ],
      "text/plain": [
       "    div_nbr Segment pim_usf_std_prod_cd id74 id76\n",
       "804    3160     BAR              100559    2    2\n",
       "805    3160     BAR              100586    2    2\n",
       "809    3160     BAR              104379    2    2\n",
       "811    3160     BAR              105147    2    2\n",
       "813    3160     BAR              112068   -2   -2\n",
       "816    3160     BAR             1125607    2    2"
      ]
     },
     "execution_count": 65,
     "metadata": {},
     "output_type": "execute_result"
    }
   ],
   "source": [
    "kappa = kappa[ , c('X', 'ids', 'id74', 'id76')]\n",
    "\n",
    "div_nbr = as.numeric(substr(kappa$X, 1, 4))\n",
    "\n",
    "Segment = substr(kappa$X, 6, 8)\n",
    "\n",
    "pim_usf_std_prod_cd = as.numeric(substr(kappa$X, 10, length(kappa$X)))\n",
    "\n",
    "kappa = cbind(div_nbr, Segment, pim_usf_std_prod_cd, kappa[ , c('id74', 'id76')])\n",
    "\n",
    "kappa = kappa[kappa$div_nbr == 3160, ] \n",
    "\n",
    "kappa = kappa[!is.na(kappa$id74) & !is.na(kappa$id76), ]\n",
    "\n",
    "dim(kappa)\n",
    "\n",
    "head(kappa)"
   ]
  },
  {
   "cell_type": "markdown",
   "metadata": {},
   "source": [
    "### Merging by survey_results and kappa data frames, creating merged"
   ]
  },
  {
   "cell_type": "code",
   "execution_count": 66,
   "metadata": {
    "collapsed": false
   },
   "outputs": [
    {
     "data": {
      "text/html": [
       "<ol class=list-inline>\n",
       "\t<li>129</li>\n",
       "\t<li>8</li>\n",
       "</ol>\n"
      ],
      "text/latex": [
       "\\begin{enumerate*}\n",
       "\\item 129\n",
       "\\item 8\n",
       "\\end{enumerate*}\n"
      ],
      "text/markdown": [
       "1. 129\n",
       "2. 8\n",
       "\n",
       "\n"
      ],
      "text/plain": [
       "[1] 129   8"
      ]
     },
     "execution_count": 66,
     "metadata": {},
     "output_type": "execute_result"
    },
    {
     "data": {
      "text/html": [
       "<table>\n",
       "<thead><tr><th></th><th scope=col>div_nbr</th><th scope=col>Segment</th><th scope=col>pim_usf_std_prod_cd</th><th scope=col>Product</th><th scope=col>pim_prod_desc_lng</th><th scope=col>pim_brnd_typ_desc</th><th scope=col>id74</th><th scope=col>id76</th></tr></thead>\n",
       "<tbody>\n",
       "\t<tr><th scope=row>1</th><td>3160</td><td>BAR</td><td>100559</td><td>BASIL, FRESH HERB || PRIVATE || CROSS VALLEY FARMS</td><td>BASIL, FRESH HERB</td><td>PRIVATE</td><td>2</td><td>2</td></tr>\n",
       "\t<tr><th scope=row>2</th><td>3160</td><td>BAR</td><td>100586</td><td>ONION, GREEN TRIMMED ICELESS FRESH REF SCALLION || PRIVATE || CROSS VALLEY FARMS</td><td>ONION, GREEN TRIMMED ICELESS FRESH REF SCALLION</td><td>PRIVATE</td><td>2</td><td>2</td></tr>\n",
       "\t<tr><th scope=row>3</th><td>3160</td><td>BAR</td><td>104379</td><td>ONION, YELLOW JUMBO 3\"+ BOX FRESH REF || PRIVATE || CROSS VALLEY FARMS</td><td>ONION, YELLOW JUMBO 3\"+ BOX FRESH REF</td><td>PRIVATE</td><td>2</td><td>2</td></tr>\n",
       "\t<tr><th scope=row>4</th><td>3160</td><td>BAR</td><td>105147</td><td>CHEESE, CHEDDAR MILD SHRED FANCY BAG YELLOW REF || PRIVATE || GLENVIEW FARMS</td><td>CHEESE, CHEDDAR MILD SHRED FANCY BAG YELLOW REF</td><td>PRIVATE</td><td>2</td><td>2</td></tr>\n",
       "\t<tr><th scope=row>5</th><td>3160</td><td>BAR</td><td>112068</td><td>SANITIZER, BAR GLASS TABLET BOTTLE WHITE ODORLESS || NATIONAL || STERAMINE</td><td>SANITIZER, BAR GLASS TABLET BOTTLE WHITE ODORLESS</td><td>NATIONAL</td><td>-2</td><td>-2</td></tr>\n",
       "\t<tr><th scope=row>6</th><td>3160</td><td>BAR</td><td>1125607</td><td>MUSHROOM, WHITE MEDIUM #1 GRADE BOX FRESH REF || PRIVATE || CROSS VALLEY FARMS</td><td>MUSHROOM, WHITE MEDIUM #1 GRADE BOX FRESH REF</td><td>PRIVATE</td><td>2</td><td>2</td></tr>\n",
       "</tbody>\n",
       "</table>\n"
      ],
      "text/latex": [
       "\\begin{tabular}{r|llllllll}\n",
       "  & div_nbr & Segment & pim_usf_std_prod_cd & Product & pim_prod_desc_lng & pim_brnd_typ_desc & id74 & id76\\\\\n",
       "\\hline\n",
       "\t1 & 3160 & BAR & 100559 & BASIL, FRESH HERB || PRIVATE || CROSS VALLEY FARMS & BASIL, FRESH HERB & PRIVATE & 2 & 2\\\\\n",
       "\t2 & 3160 & BAR & 100586 & ONION, GREEN TRIMMED ICELESS FRESH REF SCALLION || PRIVATE || CROSS VALLEY FARMS & ONION, GREEN TRIMMED ICELESS FRESH REF SCALLION & PRIVATE & 2 & 2\\\\\n",
       "\t3 & 3160 & BAR & 104379 & ONION, YELLOW JUMBO 3\"+ BOX FRESH REF || PRIVATE || CROSS VALLEY FARMS & ONION, YELLOW JUMBO 3\"+ BOX FRESH REF & PRIVATE & 2 & 2\\\\\n",
       "\t4 & 3160 & BAR & 105147 & CHEESE, CHEDDAR MILD SHRED FANCY BAG YELLOW REF || PRIVATE || GLENVIEW FARMS & CHEESE, CHEDDAR MILD SHRED FANCY BAG YELLOW REF & PRIVATE & 2 & 2\\\\\n",
       "\t5 & 3160 & BAR & 112068 & SANITIZER, BAR GLASS TABLET BOTTLE WHITE ODORLESS || NATIONAL || STERAMINE & SANITIZER, BAR GLASS TABLET BOTTLE WHITE ODORLESS & NATIONAL & -2 & -2\\\\\n",
       "\t6 & 3160 & BAR & 1125607 & MUSHROOM, WHITE MEDIUM #1 GRADE BOX FRESH REF || PRIVATE || CROSS VALLEY FARMS & MUSHROOM, WHITE MEDIUM #1 GRADE BOX FRESH REF & PRIVATE & 2 & 2\\\\\n",
       "\\end{tabular}\n"
      ],
      "text/plain": [
       "  div_nbr Segment pim_usf_std_prod_cd\n",
       "1    3160     BAR              100559\n",
       "2    3160     BAR              100586\n",
       "3    3160     BAR              104379\n",
       "4    3160     BAR              105147\n",
       "5    3160     BAR              112068\n",
       "6    3160     BAR             1125607\n",
       "                                                                           Product\n",
       "1                               BASIL, FRESH HERB || PRIVATE || CROSS VALLEY FARMS\n",
       "2 ONION, GREEN TRIMMED ICELESS FRESH REF SCALLION || PRIVATE || CROSS VALLEY FARMS\n",
       "3           ONION, YELLOW JUMBO 3\"+ BOX FRESH REF || PRIVATE || CROSS VALLEY FARMS\n",
       "4     CHEESE, CHEDDAR MILD SHRED FANCY BAG YELLOW REF || PRIVATE || GLENVIEW FARMS\n",
       "5       SANITIZER, BAR GLASS TABLET BOTTLE WHITE ODORLESS || NATIONAL || STERAMINE\n",
       "6   MUSHROOM, WHITE MEDIUM #1 GRADE BOX FRESH REF || PRIVATE || CROSS VALLEY FARMS\n",
       "                                  pim_prod_desc_lng pim_brnd_typ_desc id74 id76\n",
       "1                                 BASIL, FRESH HERB           PRIVATE    2    2\n",
       "2   ONION, GREEN TRIMMED ICELESS FRESH REF SCALLION           PRIVATE    2    2\n",
       "3             ONION, YELLOW JUMBO 3\"+ BOX FRESH REF           PRIVATE    2    2\n",
       "4   CHEESE, CHEDDAR MILD SHRED FANCY BAG YELLOW REF           PRIVATE    2    2\n",
       "5 SANITIZER, BAR GLASS TABLET BOTTLE WHITE ODORLESS          NATIONAL   -2   -2\n",
       "6     MUSHROOM, WHITE MEDIUM #1 GRADE BOX FRESH REF           PRIVATE    2    2"
      ]
     },
     "execution_count": 66,
     "metadata": {},
     "output_type": "execute_result"
    }
   ],
   "source": [
    "merged = merge(x = survey_results, y = kappa, by = c('div_nbr', 'Segment', 'pim_usf_std_prod_cd'), all.x = FALSE, all.y = FALSE)\n",
    "\n",
    "dim(merged)\n",
    "\n",
    "head(merged)"
   ]
  },
  {
   "cell_type": "markdown",
   "metadata": {},
   "source": [
    "### Scoring commodities"
   ]
  },
  {
   "cell_type": "code",
   "execution_count": 67,
   "metadata": {
    "collapsed": false
   },
   "outputs": [
    {
     "data": {
      "text/html": [
       "<table>\n",
       "<thead><tr><th></th><th scope=col>div_nbr</th><th scope=col>Segment</th><th scope=col>pim_usf_std_prod_cd</th><th scope=col>Product</th><th scope=col>pim_prod_desc_lng</th><th scope=col>pim_brnd_typ_desc</th><th scope=col>id74</th><th scope=col>id76</th><th scope=col>commodity</th></tr></thead>\n",
       "<tbody>\n",
       "\t<tr><th scope=row>1</th><td>3160</td><td>BAR</td><td>100559</td><td>BASIL, FRESH HERB || PRIVATE || CROSS VALLEY FARMS</td><td>BASIL, FRESH HERB</td><td>PRIVATE</td><td>2</td><td>2</td><td>Yes</td></tr>\n",
       "\t<tr><th scope=row>2</th><td>3160</td><td>BAR</td><td>100586</td><td>ONION, GREEN TRIMMED ICELESS FRESH REF SCALLION || PRIVATE || CROSS VALLEY FARMS</td><td>ONION, GREEN TRIMMED ICELESS FRESH REF SCALLION</td><td>PRIVATE</td><td>2</td><td>2</td><td>Yes</td></tr>\n",
       "\t<tr><th scope=row>3</th><td>3160</td><td>BAR</td><td>104379</td><td>ONION, YELLOW JUMBO 3\"+ BOX FRESH REF || PRIVATE || CROSS VALLEY FARMS</td><td>ONION, YELLOW JUMBO 3\"+ BOX FRESH REF</td><td>PRIVATE</td><td>2</td><td>2</td><td>Yes</td></tr>\n",
       "\t<tr><th scope=row>4</th><td>3160</td><td>BAR</td><td>105147</td><td>CHEESE, CHEDDAR MILD SHRED FANCY BAG YELLOW REF || PRIVATE || GLENVIEW FARMS</td><td>CHEESE, CHEDDAR MILD SHRED FANCY BAG YELLOW REF</td><td>PRIVATE</td><td>2</td><td>2</td><td>Yes</td></tr>\n",
       "\t<tr><th scope=row>5</th><td>3160</td><td>BAR</td><td>112068</td><td>SANITIZER, BAR GLASS TABLET BOTTLE WHITE ODORLESS || NATIONAL || STERAMINE</td><td>SANITIZER, BAR GLASS TABLET BOTTLE WHITE ODORLESS</td><td>NATIONAL</td><td>-2</td><td>-2</td><td>No</td></tr>\n",
       "\t<tr><th scope=row>6</th><td>3160</td><td>BAR</td><td>1125607</td><td>MUSHROOM, WHITE MEDIUM #1 GRADE BOX FRESH REF || PRIVATE || CROSS VALLEY FARMS</td><td>MUSHROOM, WHITE MEDIUM #1 GRADE BOX FRESH REF</td><td>PRIVATE</td><td>2</td><td>2</td><td>Yes</td></tr>\n",
       "</tbody>\n",
       "</table>\n"
      ],
      "text/latex": [
       "\\begin{tabular}{r|lllllllll}\n",
       "  & div_nbr & Segment & pim_usf_std_prod_cd & Product & pim_prod_desc_lng & pim_brnd_typ_desc & id74 & id76 & commodity\\\\\n",
       "\\hline\n",
       "\t1 & 3160 & BAR & 100559 & BASIL, FRESH HERB || PRIVATE || CROSS VALLEY FARMS & BASIL, FRESH HERB & PRIVATE & 2 & 2 & Yes\\\\\n",
       "\t2 & 3160 & BAR & 100586 & ONION, GREEN TRIMMED ICELESS FRESH REF SCALLION || PRIVATE || CROSS VALLEY FARMS & ONION, GREEN TRIMMED ICELESS FRESH REF SCALLION & PRIVATE & 2 & 2 & Yes\\\\\n",
       "\t3 & 3160 & BAR & 104379 & ONION, YELLOW JUMBO 3\"+ BOX FRESH REF || PRIVATE || CROSS VALLEY FARMS & ONION, YELLOW JUMBO 3\"+ BOX FRESH REF & PRIVATE & 2 & 2 & Yes\\\\\n",
       "\t4 & 3160 & BAR & 105147 & CHEESE, CHEDDAR MILD SHRED FANCY BAG YELLOW REF || PRIVATE || GLENVIEW FARMS & CHEESE, CHEDDAR MILD SHRED FANCY BAG YELLOW REF & PRIVATE & 2 & 2 & Yes\\\\\n",
       "\t5 & 3160 & BAR & 112068 & SANITIZER, BAR GLASS TABLET BOTTLE WHITE ODORLESS || NATIONAL || STERAMINE & SANITIZER, BAR GLASS TABLET BOTTLE WHITE ODORLESS & NATIONAL & -2 & -2 & No\\\\\n",
       "\t6 & 3160 & BAR & 1125607 & MUSHROOM, WHITE MEDIUM #1 GRADE BOX FRESH REF || PRIVATE || CROSS VALLEY FARMS & MUSHROOM, WHITE MEDIUM #1 GRADE BOX FRESH REF & PRIVATE & 2 & 2 & Yes\\\\\n",
       "\\end{tabular}\n"
      ],
      "text/plain": [
       "  div_nbr Segment pim_usf_std_prod_cd\n",
       "1    3160     BAR              100559\n",
       "2    3160     BAR              100586\n",
       "3    3160     BAR              104379\n",
       "4    3160     BAR              105147\n",
       "5    3160     BAR              112068\n",
       "6    3160     BAR             1125607\n",
       "                                                                           Product\n",
       "1                               BASIL, FRESH HERB || PRIVATE || CROSS VALLEY FARMS\n",
       "2 ONION, GREEN TRIMMED ICELESS FRESH REF SCALLION || PRIVATE || CROSS VALLEY FARMS\n",
       "3           ONION, YELLOW JUMBO 3\"+ BOX FRESH REF || PRIVATE || CROSS VALLEY FARMS\n",
       "4     CHEESE, CHEDDAR MILD SHRED FANCY BAG YELLOW REF || PRIVATE || GLENVIEW FARMS\n",
       "5       SANITIZER, BAR GLASS TABLET BOTTLE WHITE ODORLESS || NATIONAL || STERAMINE\n",
       "6   MUSHROOM, WHITE MEDIUM #1 GRADE BOX FRESH REF || PRIVATE || CROSS VALLEY FARMS\n",
       "                                  pim_prod_desc_lng pim_brnd_typ_desc id74 id76\n",
       "1                                 BASIL, FRESH HERB           PRIVATE    2    2\n",
       "2   ONION, GREEN TRIMMED ICELESS FRESH REF SCALLION           PRIVATE    2    2\n",
       "3             ONION, YELLOW JUMBO 3\"+ BOX FRESH REF           PRIVATE    2    2\n",
       "4   CHEESE, CHEDDAR MILD SHRED FANCY BAG YELLOW REF           PRIVATE    2    2\n",
       "5 SANITIZER, BAR GLASS TABLET BOTTLE WHITE ODORLESS          NATIONAL   -2   -2\n",
       "6     MUSHROOM, WHITE MEDIUM #1 GRADE BOX FRESH REF           PRIVATE    2    2\n",
       "  commodity\n",
       "1       Yes\n",
       "2       Yes\n",
       "3       Yes\n",
       "4       Yes\n",
       "5        No\n",
       "6       Yes"
      ]
     },
     "execution_count": 67,
     "metadata": {},
     "output_type": "execute_result"
    }
   ],
   "source": [
    "commodity = ifelse(merged$id74 < 0 & merged$id76 < 0, 'No', ifelse(merged$id74 > 0 & merged$id76 > 0, 'Yes', 'Maybe'))\n",
    "\n",
    "merged = cbind(merged, commodity)\n",
    "\n",
    "head(merged)"
   ]
  },
  {
   "cell_type": "markdown",
   "metadata": {},
   "source": [
    "### Writing out merged data frame as US_Foods_3160_Commodity_Sanity_Check.csv"
   ]
  },
  {
   "cell_type": "code",
   "execution_count": 68,
   "metadata": {
    "collapsed": true
   },
   "outputs": [],
   "source": [
    "write.csv(merged, 'C:/Users/Jeff Charbeneau/Desktop/US_Foods_3160_Commodity_Sanity_Check.csv')"
   ]
  }
 ],
 "metadata": {
  "kernelspec": {
   "display_name": "R",
   "language": "R",
   "name": "ir"
  },
  "language_info": {
   "codemirror_mode": "r",
   "file_extension": ".r",
   "mimetype": "text/x-r-source",
   "name": "R",
   "pygments_lexer": "r",
   "version": "3.1.3"
  }
 },
 "nbformat": 4,
 "nbformat_minor": 0
}
